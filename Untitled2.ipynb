{
 "cells": [
  {
   "cell_type": "code",
   "execution_count": 1,
   "metadata": {},
   "outputs": [
    {
     "name": "stdout",
     "output_type": "stream",
     "text": [
      "0.00040286663\n",
      "(50000, 256)\n",
      "synthetic50256 evaluation error 32=1.7891189  64=1.4301548   128=1.0731208\n",
      "seismic50256 evaluation error 32=1.7777203  64=1.4226902   128=1.0666755\n"
     ]
    }
   ],
   "source": [
    "import pywt\n",
    "import matplotlib.pyplot as plt\n",
    "import numpy as np\n",
    "import math\n",
    "import struct \n",
    "ts = np.fromfile('./Documents/filename.bin', dtype=np.float32).reshape(-1, 256) \n",
    "ts1 = np.fromfile('./Documents/seismic100256.bin', dtype=np.float32).reshape(-1, 256) \n",
    "ts2 = np.fromfile('./Documents/synthetic100256.bin', dtype=np.float32).reshape(-1, 256) \n",
    "ts3= np.fromfile('./Documents/synthetic50256.bin', dtype=np.float32).reshape(-1, 256)\n",
    "#with open('./Documents/filename.bin', 'rb') as in_file: \n",
    "   # ts = np.array(struct.unpack('f' * 50000 * 256, in_file.read())) .reshape(-1, 256) \n",
    "def reduction(ts):\n",
    "   ca,cd= pywt.dwt(ts,'haar')\n",
    "   ca= pywt.threshold(ca, np.std(ca)/10000, mode='soft')\n",
    "   cd= pywt.threshold(cd, np.std(cd)/10000, mode='soft')\n",
    "  # coef['da'] = pywt.threshold(coef['da'], np.std(coef['da'])/1000, mode='soft')\n",
    "   #coef['dd'] = pywt.threshold(coef['dd'], np.std(coef['dd'])/1000, mode='soft')  \n",
    "   ts_rec = pywt.idwt(ca,cd, 'haar')\n",
    "   return ts_rec\n",
    "def reduction128(ts):\n",
    "    t=ts\n",
    "    for i in range(0,3):\n",
    "        ts_r=reduction(t)\n",
    "        t=ts_r\n",
    "    return t\n",
    "\n",
    "def reduction64(ts):\n",
    "    ts_r1=reduction128(ts)\n",
    "    return reduction(ts_r1)\n",
    "\n",
    "def reduction32(ts):\n",
    "    ts_r1=reduction64(ts)\n",
    "    return reduction(ts_r1)\n",
    "\n",
    "\n",
    "\n",
    "def similarity_search(ts,s): #ts un ensemble de signal 50256 et s un element du timeserie 100256\n",
    "    ts=sorted(ts,key= lambda x: np.linalg.norm(x-s))\n",
    "    return ts[0]\n",
    "\n",
    "\n",
    "\n",
    "\n",
    "\n",
    "ts_rec100256=reduction64(ts1)\n",
    "ts_rec=reduction64(ts)\n",
    "ss=similarity_search(ts_rec,ts_rec100256[0])\n",
    "print(str(np.linalg.norm(ts_rec100256[0] - ss)))\n",
    "#plt.close('all')\n",
    "\n",
    "#plt.subplot(212)\n",
    "# Original coefficients\n",
    "#plt.plot(ts_rec100256[0])\n",
    "#plt.plot(ss)\n",
    "#plt.legend(['os', 'ss' ])\n",
    "#plt.grid('on')\n",
    "#plt.show()\n",
    "ts_rec_=reduction32(ts)\n",
    "ts_rec__=reduction128(ts)\n",
    "ts_rec3_=reduction32(ts3)\n",
    "ts_rec3__=reduction128(ts3)\n",
    "ts_rec3=reduction64(ts3)\n",
    "#print(str(similarity_search(ts_rec,ts_rec100256[0])))\n",
    "print(\"synthetic50256 evaluation error 32=\"+str(np.linalg.norm(ts3 - ts_rec3_))+\"  64=\"+str(np.linalg.norm(ts3 - ts_rec3))+\"   128=\"+str(np.linalg.norm(ts3 - ts_rec3__)))\n",
    "print(\"seismic50256 evaluation error 32=\"+str(np.linalg.norm(ts - ts_rec_))+\"  64=\"+str(np.linalg.norm(ts - ts_rec))+\"   128=\"+str(np.linalg.norm(ts - ts_rec__)))"
   ]
  },
  {
   "cell_type": "code",
   "execution_count": 5,
   "metadata": {},
   "outputs": [
    {
     "name": "stdout",
     "output_type": "stream",
     "text": [
      "synthetic50256 evaluation error 32=1.7890812  64=1.4317076   128=1.0736635\n",
      "seismic50256 evaluation error 32=1.78903  64=1.4310604   128=1.0731844\n"
     ]
    }
   ],
   "source": [
    "import pywt\n",
    "import matplotlib.pyplot as plt\n",
    "import numpy as np\n",
    "import math\n",
    "import struct \n",
    "ts = np.fromfile('./Documents/filename.bin', dtype=np.float32).reshape(-1, 256) \n",
    "ts1 = np.fromfile('./Documents/seismic100256.bin', dtype=np.float32).reshape(-1, 256) \n",
    "ts2 = np.fromfile('./Documents/synthetic100256.bin', dtype=np.float32).reshape(-1, 256) \n",
    "ts3= np.fromfile('./Documents/synthetic50256.bin', dtype=np.float32).reshape(-1, 256)\n",
    "#with open('./Documents/filename.bin', 'rb') as in_file: \n",
    "   # ts = np.array(struct.unpack('f' * 50000 * 256, in_file.read())) .reshape(-1, 256) \n",
    "def reduction(ts):\n",
    "    \n",
    "   coef= pywt.dwtn(ts,'haar')\n",
    "   coef['aa'] = pywt.threshold(coef['aa'], np.std(coef['aa'])/10000, mode='soft')\n",
    "   coef['ad'] = pywt.threshold(coef['ad'], np.std(coef['ad'])/10000, mode='soft')\n",
    "   coef['da'] = pywt.threshold(coef['da'], np.std(coef['da'])/10000, mode='soft')\n",
    "   coef['dd'] = pywt.threshold(coef['dd'], np.std(coef['dd'])/10000, mode='soft')  \n",
    "   ts_rec = pywt.idwtn(coef, 'haar')\n",
    "   return ts_rec\n",
    "def reduction128(ts):\n",
    "    t=ts\n",
    "    for i in range(0,3):\n",
    "        ts_r=reduction(t)\n",
    "        t=ts_r\n",
    "    return t\n",
    "\n",
    "def reduction64(ts):\n",
    "    ts_r1=reduction128(ts)\n",
    "    return reduction(ts_r1)\n",
    "\n",
    "def reduction32(ts):\n",
    "    ts_r1=reduction64(ts)\n",
    "    return reduction(ts_r1)\n",
    "\n",
    "ts_rec=reduction64(ts)\n",
    "ts_rec_=reduction32(ts)\n",
    "ts_rec__=reduction128(ts)\n",
    "ts_rec3_=reduction32(ts3)\n",
    "ts_rec3__=reduction128(ts3)\n",
    "ts_rec3=reduction64(ts3)\n",
    "print(\"synthetic50256 evaluation error 32=\"+str(np.linalg.norm(ts3 - ts_rec3_))+\"  64=\"+str(np.linalg.norm(ts3 - ts_rec3))+\"   128=\"+str(np.linalg.norm(ts3 - ts_rec3__)))\n",
    "print(\"seismic50256 evaluation error 32=\"+str(np.linalg.norm(ts - ts_rec_))+\"  64=\"+str(np.linalg.norm(ts - ts_rec))+\"   128=\"+str(np.linalg.norm(ts - ts_rec__)))"
   ]
  },
  {
   "cell_type": "markdown",
   "metadata": {},
   "source": [
    " "
   ]
  },
  {
   "cell_type": "code",
   "execution_count": 21,
   "metadata": {},
   "outputs": [
    {
     "name": "stdout",
     "output_type": "stream",
     "text": [
      "[-9, 3, 4, 5, 7, 8]\n"
     ]
    }
   ],
   "source": [
    "ts=[4,3,-9,8,7,5]\n",
    "ts=(sorted(ts))\n",
    "print(ts)"
   ]
  },
  {
   "cell_type": "code",
   "execution_count": null,
   "metadata": {},
   "outputs": [],
   "source": []
  }
 ],
 "metadata": {
  "kernelspec": {
   "display_name": "Python 3",
   "language": "python",
   "name": "python3"
  },
  "language_info": {
   "codemirror_mode": {
    "name": "ipython",
    "version": 3
   },
   "file_extension": ".py",
   "mimetype": "text/x-python",
   "name": "python",
   "nbconvert_exporter": "python",
   "pygments_lexer": "ipython3",
   "version": "3.7.4"
  }
 },
 "nbformat": 4,
 "nbformat_minor": 2
}
